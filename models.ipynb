{
 "cells": [
  {
   "cell_type": "markdown",
   "id": "aaaf9e13",
   "metadata": {},
   "source": [
    "# Proyecto\n",
    "## PlusTI - Detección de fraude\n",
    "Universidad del Valle de Guatemala<br>\n",
    "Security Data Science<br>\n",
    "Pablo Andrés Zamora Vásquez<br>\n",
    "Carné 21780"
   ]
  },
  {
   "cell_type": "markdown",
   "id": "d301e7a3",
   "metadata": {},
   "source": [
    "## Modelo Base"
   ]
  },
  {
   "cell_type": "code",
   "execution_count": 1,
   "id": "ebfb89e2",
   "metadata": {},
   "outputs": [],
   "source": [
    "import pandas as pd\n",
    "import numpy as np\n",
    "import lightgbm as lgb\n",
    "from sklearn.model_selection import train_test_split"
   ]
  },
  {
   "cell_type": "code",
   "execution_count": 2,
   "id": "12040728",
   "metadata": {},
   "outputs": [],
   "source": [
    "# Importar el conjunto de datos\n",
    "df = pd.read_csv('./data/dataset_feature_engineering_v2.csv')"
   ]
  },
  {
   "cell_type": "markdown",
   "id": "8209915d",
   "metadata": {},
   "source": [
    "### Dividir el conjunto en entrenamiento y test"
   ]
  },
  {
   "cell_type": "code",
   "execution_count": 8,
   "id": "fc41453f",
   "metadata": {},
   "outputs": [],
   "source": [
    "X = df.drop(columns=['is_fraud', 'transaction_dt', 'first', 'last', 'dob', 'trans_num'])\n",
    "y = df['is_fraud']\n",
    "\n",
    "X_train = df[df['trans_month'] < 12]  # Entrenamiento: meses antes de diciembre 2020\n",
    "X_test = df[df['trans_month'] == 12]  # Test: diciembre 2020\n",
    "\n",
    "y_train = X_train['is_fraud']\n",
    "y_test = X_test['is_fraud']\n",
    "\n",
    "X_train = X_train.drop(columns=['is_fraud', 'transaction_dt', 'first', 'last', 'dob', 'trans_num'])\n",
    "X_test = X_test.drop(columns=['is_fraud', 'transaction_dt', 'first', 'last', 'dob', 'trans_num'])"
   ]
  },
  {
   "cell_type": "markdown",
   "id": "5ab6dea6",
   "metadata": {},
   "source": [
    "### Codificar variables categóricas"
   ]
  },
  {
   "cell_type": "code",
   "execution_count": null,
   "id": "135fd4d4",
   "metadata": {},
   "outputs": [],
   "source": [
    "from sklearn.preprocessing import LabelEncoder\n",
    "from sklearn.preprocessing import OrdinalEncoder\n",
    "\n",
    "# Lista de columnas a codificar\n",
    "cols_to_encode = ['merchant', 'category', 'job', 'state', 'age_group', 'year_month', 'trans_year_month']\n",
    "\n",
    "# Inicializar el encoder con manejo de categorías desconocidas\n",
    "oe = OrdinalEncoder(handle_unknown='use_encoded_value', unknown_value=-1)\n",
    "\n",
    "# Aplicar el fit solo al entrenamiento\n",
    "X_train[cols_to_encode] = oe.fit_transform(X_train[cols_to_encode].astype(str))\n",
    "\n",
    "# Transformar el test (sin volver a hacer fit)\n",
    "X_test[cols_to_encode] = oe.transform(X_test[cols_to_encode].astype(str))\n",
    "\n",
    "# Codificar binarios\n",
    "X_train['gender'] = X_train['gender'].map({'F': 0, 'M': 1}).fillna(0)\n",
    "X_test['gender'] = X_test['gender'].map({'F': 0, 'M': 1}).fillna(0)\n",
    "\n",
    "# Booleanos a 0/1\n",
    "bool_cols = ['first_time_at_merchant', 'is_weekend']\n",
    "for col in bool_cols:\n",
    "    X_train[col] = X_train[col].astype(int)\n",
    "    X_test[col] = X_test[col].astype(int)\n",
    "    \n",
    "# Eliminar columnas innecesarias\n",
    "cols_to_drop = ['street', 'city']\n",
    "X_train = X_train.drop(columns=cols_to_drop)\n",
    "X_test = X_test.drop(columns=cols_to_drop)"
   ]
  },
  {
   "cell_type": "markdown",
   "id": "e7f948cb",
   "metadata": {},
   "source": [
    "### Entrenamiento modelo base"
   ]
  },
  {
   "cell_type": "code",
   "execution_count": 65,
   "id": "24aba586",
   "metadata": {},
   "outputs": [
    {
     "name": "stdout",
     "output_type": "stream",
     "text": [
      "[LightGBM] [Info] Number of positive: 8801, number of negative: 1562995\n",
      "[LightGBM] [Info] Auto-choosing row-wise multi-threading, the overhead of testing was 0.118192 seconds.\n",
      "You can set `force_row_wise=true` to remove the overhead.\n",
      "And if memory is not enough, you can set `force_col_wise=true`.\n",
      "[LightGBM] [Info] Total Bins 6252\n",
      "[LightGBM] [Info] Number of data points in the train set: 1571796, number of used features: 44\n",
      "[LightGBM] [Info] [binary:BoostFromScore]: pavg=0.005599 -> initscore=-5.179494\n",
      "[LightGBM] [Info] Start training from score -5.179494\n"
     ]
    }
   ],
   "source": [
    "train_set = lgb.Dataset(X_train, label=y_train)\n",
    "test_set = lgb.Dataset(X_test, label=y_test)\n",
    "\n",
    "base_model = lgb.train(\n",
    "    params={\n",
    "        'objective': 'binary',\n",
    "        'metric': 'auc',\n",
    "    },\n",
    "    train_set=train_set,\n",
    "    valid_sets=[test_set],\n",
    ")"
   ]
  },
  {
   "cell_type": "code",
   "execution_count": 66,
   "id": "31b039fa",
   "metadata": {},
   "outputs": [
    {
     "name": "stdout",
     "output_type": "stream",
     "text": [
      "              precision    recall  f1-score   support\n",
      "\n",
      "           0       1.00      0.99      0.99    279748\n",
      "           1       0.13      0.73      0.22       850\n",
      "\n",
      "    accuracy                           0.98    280598\n",
      "   macro avg       0.56      0.86      0.61    280598\n",
      "weighted avg       1.00      0.98      0.99    280598\n",
      "\n",
      "[[275597   4151]\n",
      " [   232    618]]\n",
      "AUC: 0.9435347190622821\n",
      "Ratio FP: 7.72\n"
     ]
    }
   ],
   "source": [
    "# Obtener resultados\n",
    "y_pred = base_model.predict(X_test)\n",
    "y_pred_binary = (y_pred > 0.5).astype(int)\n",
    "\n",
    "from sklearn.metrics import classification_report, confusion_matrix, roc_auc_score\n",
    "cr = classification_report(y_test, y_pred_binary, output_dict=True)\n",
    "print(classification_report(y_test, y_pred_binary))\n",
    "print(confusion_matrix(y_test, y_pred_binary))\n",
    "print(f\"AUC: {roc_auc_score(y_test, y_pred)}\")\n",
    "\n",
    "tn, fp, fn, tp = confusion_matrix(y_test, y_pred_binary).ravel()\n",
    "ratio_fp = (tp + fp) / tp if tp != 0 else float('inf')\n",
    "print(f\"Ratio FP: {ratio_fp:.2f}\")\n",
    "\n",
    "base_model_results = {\n",
    "    'model': 'base_model',\n",
    "    'precision': cr['1']['precision'],\n",
    "    'recall': cr['1']['recall'],\n",
    "    'f1-score': cr['1']['f1-score'],\n",
    "    'support': cr['1']['support'],\n",
    "    'auc': roc_auc_score(y_test, y_pred),\n",
    "    'ratio_fp': ratio_fp,\n",
    "}"
   ]
  },
  {
   "cell_type": "markdown",
   "id": "f69d3e37",
   "metadata": {},
   "source": [
    "### Implementación de métricas personalizadas"
   ]
  },
  {
   "cell_type": "markdown",
   "id": "f5080f29",
   "metadata": {},
   "source": [
    "Usando la razón entre falsos positivos y verdaderos positivos:"
   ]
  },
  {
   "cell_type": "code",
   "execution_count": 49,
   "id": "5913c7eb",
   "metadata": {},
   "outputs": [],
   "source": [
    "from sklearn.metrics import confusion_matrix\n",
    "\n",
    "def ratio_fp_metric(y_pred, data):\n",
    "    y_true = data.get_label()\n",
    "    y_pred_bin = (y_pred > 0.5).astype(int)\n",
    "    tn, fp, fn, tp = confusion_matrix(y_true, y_pred_bin).ravel()\n",
    "\n",
    "    if tp == 0:\n",
    "        ratio = float('inf')  # Evitar división por cero\n",
    "    else:\n",
    "        ratio = (tp + fp) / tp\n",
    "\n",
    "    return 'ratio_fp', ratio, False  # False indica que menor es mejor\n"
   ]
  },
  {
   "cell_type": "code",
   "execution_count": 67,
   "id": "5bc1ddeb",
   "metadata": {},
   "outputs": [
    {
     "name": "stdout",
     "output_type": "stream",
     "text": [
      "[LightGBM] [Info] Number of positive: 8801, number of negative: 1562995\n",
      "[LightGBM] [Info] Auto-choosing row-wise multi-threading, the overhead of testing was 0.123450 seconds.\n",
      "You can set `force_row_wise=true` to remove the overhead.\n",
      "And if memory is not enough, you can set `force_col_wise=true`.\n",
      "[LightGBM] [Info] Total Bins 6252\n",
      "[LightGBM] [Info] Number of data points in the train set: 1571796, number of used features: 44\n",
      "[LightGBM] [Info] [binary:BoostFromScore]: pavg=0.005599 -> initscore=-5.179494\n",
      "[LightGBM] [Info] Start training from score -5.179494\n",
      "Training until validation scores don't improve for 10 rounds\n",
      "Early stopping, best iteration is:\n",
      "[1]\tvalid_0's binary_logloss: 0.0117299\tvalid_0's ratio_fp: 1.20436\n"
     ]
    }
   ],
   "source": [
    "params = {\n",
    "    'objective': 'binary',\n",
    "    'metric': 'binary_logloss',\n",
    "}\n",
    "\n",
    "fP_ratio_model = lgb.train(\n",
    "    params,\n",
    "    train_set,\n",
    "    valid_sets=[test_set],\n",
    "    feval=ratio_fp_metric,\n",
    "    callbacks=[lgb.early_stopping(stopping_rounds=10)],\n",
    ")"
   ]
  },
  {
   "cell_type": "code",
   "execution_count": 70,
   "id": "2542c9c9",
   "metadata": {},
   "outputs": [
    {
     "name": "stdout",
     "output_type": "stream",
     "text": [
      "              precision    recall  f1-score   support\n",
      "\n",
      "           0       1.00      1.00      1.00    279748\n",
      "           1       0.83      0.70      0.76       850\n",
      "\n",
      "    accuracy                           1.00    280598\n",
      "   macro avg       0.91      0.85      0.88    280598\n",
      "weighted avg       1.00      1.00      1.00    280598\n",
      "\n",
      "[[279626    122]\n",
      " [   253    597]]\n",
      "AUC: 0.8947209126869644\n",
      "Ratio FP: 1.20\n"
     ]
    }
   ],
   "source": [
    "# Obtener resultados\n",
    "y_pred = fP_ratio_model.predict(X_test)\n",
    "y_pred_binary = (y_pred > 0.5).astype(int)\n",
    "\n",
    "from sklearn.metrics import classification_report, confusion_matrix, roc_auc_score\n",
    "cr = classification_report(y_test, y_pred_binary, output_dict=True)\n",
    "print(classification_report(y_test, y_pred_binary))\n",
    "print(confusion_matrix(y_test, y_pred_binary))\n",
    "print(f\"AUC: {roc_auc_score(y_test, y_pred)}\")\n",
    "\n",
    "tn, fp, fn, tp = confusion_matrix(y_test, y_pred_binary).ravel()\n",
    "ratio_fp = (tp + fp) / tp if tp != 0 else float('inf')\n",
    "print(f\"Ratio FP: {ratio_fp:.2f}\")\n",
    "\n",
    "fp_ratio_model_results = {\n",
    "    'model': 'fp_ratio_model',\n",
    "    'precision': cr['1']['precision'],\n",
    "    'recall': cr['1']['recall'],\n",
    "    'f1-score': cr['1']['f1-score'],\n",
    "    'support': cr['1']['support'],\n",
    "    'auc': roc_auc_score(y_test, y_pred),\n",
    "    'ratio_fp': ratio_fp,\n",
    "}"
   ]
  },
  {
   "cell_type": "markdown",
   "id": "ff229b8c",
   "metadata": {},
   "source": [
    "Se logró reducir la cantidad de falsos positivos de 4115 a 122, manteniendo una buena detección (597 fraudes detectados de 850)."
   ]
  },
  {
   "cell_type": "markdown",
   "id": "98be5835",
   "metadata": {},
   "source": [
    "Penalizando los falsos positivos:"
   ]
  },
  {
   "cell_type": "code",
   "execution_count": 52,
   "id": "4bc712c6",
   "metadata": {},
   "outputs": [],
   "source": [
    "def penalized_f1(y_pred, data):\n",
    "    from sklearn.metrics import confusion_matrix\n",
    "\n",
    "    y_true = data.get_label()\n",
    "    y_pred_bin = (y_pred > 0.5).astype(int)\n",
    "    tn, fp, fn, tp = confusion_matrix(y_true, y_pred_bin).ravel()\n",
    "\n",
    "    precision = tp / (tp + fp + 1e-6)\n",
    "    recall = tp / (tp + fn + 1e-6)\n",
    "    f1 = 2 * precision * recall / (precision + recall + 1e-6)\n",
    "\n",
    "    # Penalizar el score si hay muchos FP\n",
    "    penalty = 1 + (fp / (tp + 1e-6))\n",
    "    penalized = f1 / penalty\n",
    "\n",
    "    return 'penalized_f1', penalized, True  # True indica que mayor es mejor"
   ]
  },
  {
   "cell_type": "code",
   "execution_count": 69,
   "id": "81940381",
   "metadata": {},
   "outputs": [
    {
     "name": "stdout",
     "output_type": "stream",
     "text": [
      "[LightGBM] [Info] Number of positive: 8801, number of negative: 1562995\n",
      "[LightGBM] [Info] Auto-choosing row-wise multi-threading, the overhead of testing was 0.125756 seconds.\n",
      "You can set `force_row_wise=true` to remove the overhead.\n",
      "And if memory is not enough, you can set `force_col_wise=true`.\n",
      "[LightGBM] [Info] Total Bins 6252\n",
      "[LightGBM] [Info] Number of data points in the train set: 1571796, number of used features: 44\n",
      "[LightGBM] [Info] [binary:BoostFromScore]: pavg=0.005599 -> initscore=-5.179494\n",
      "[LightGBM] [Info] Start training from score -5.179494\n",
      "Training until validation scores don't improve for 10 rounds\n",
      "Early stopping, best iteration is:\n",
      "[1]\tvalid_0's binary_logloss: 0.0117299\tvalid_0's penalized_f1: 0.631868\n"
     ]
    }
   ],
   "source": [
    "params = {\n",
    "    'objective': 'binary',\n",
    "    'metric': 'binary_logloss',\n",
    "}\n",
    "\n",
    "penalized_f1_model = lgb.train(\n",
    "    params,\n",
    "    train_set,\n",
    "    valid_sets=[test_set],\n",
    "    feval=penalized_f1,\n",
    "    callbacks=[lgb.early_stopping(stopping_rounds=10)],\n",
    ")"
   ]
  },
  {
   "cell_type": "code",
   "execution_count": 73,
   "id": "65a57b45",
   "metadata": {},
   "outputs": [
    {
     "name": "stdout",
     "output_type": "stream",
     "text": [
      "              precision    recall  f1-score   support\n",
      "\n",
      "           0       1.00      1.00      1.00    279748\n",
      "           1       0.83      0.70      0.76       850\n",
      "\n",
      "    accuracy                           1.00    280598\n",
      "   macro avg       0.91      0.85      0.88    280598\n",
      "weighted avg       1.00      1.00      1.00    280598\n",
      "\n",
      "[[279626    122]\n",
      " [   253    597]]\n",
      "AUC: 0.8947209126869644\n",
      "Ratio FP: 1.20\n"
     ]
    }
   ],
   "source": [
    "# Obtener resultados\n",
    "y_pred = penalized_f1_model.predict(X_test)\n",
    "y_pred_binary = (y_pred > 0.5).astype(int)\n",
    "\n",
    "from sklearn.metrics import classification_report, confusion_matrix, roc_auc_score\n",
    "cr = classification_report(y_test, y_pred_binary, output_dict=True)\n",
    "print(classification_report(y_test, y_pred_binary))\n",
    "print(confusion_matrix(y_test, y_pred_binary))\n",
    "print(f\"AUC: {roc_auc_score(y_test, y_pred)}\")\n",
    "\n",
    "tn, fp, fn, tp = confusion_matrix(y_test, y_pred_binary).ravel()\n",
    "ratio_fp = (tp + fp) / tp if tp != 0 else float('inf')\n",
    "print(f\"Ratio FP: {ratio_fp:.2f}\")\n",
    "\n",
    "f1_model_results = {\n",
    "    'model': 'f1_model',\n",
    "    'precision': cr['1']['precision'],\n",
    "    'recall': cr['1']['recall'],\n",
    "    'f1-score': cr['1']['f1-score'],\n",
    "    'support': cr['1']['support'],\n",
    "    'auc': roc_auc_score(y_test, y_pred),\n",
    "    'ratio_fp': ratio_fp,\n",
    "}"
   ]
  },
  {
   "cell_type": "markdown",
   "id": "b81aa24b",
   "metadata": {},
   "source": [
    "Asignando mayor peso a los falsos positivos:"
   ]
  },
  {
   "cell_type": "code",
   "execution_count": 55,
   "id": "42eecbab",
   "metadata": {},
   "outputs": [],
   "source": [
    "def weighted_cost_metric(y_pred, data):\n",
    "    from sklearn.metrics import confusion_matrix\n",
    "\n",
    "    y_true = data.get_label()\n",
    "    y_pred_bin = (y_pred > 0.5).astype(int)\n",
    "    tn, fp, fn, tp = confusion_matrix(y_true, y_pred_bin).ravel()\n",
    "\n",
    "    cost = 5 * fp + fn  # FP cuesta 5 veces más\n",
    "    return 'weighted_cost', cost, False  # Menor es mejor"
   ]
  },
  {
   "cell_type": "code",
   "execution_count": 72,
   "id": "a941c0c5",
   "metadata": {},
   "outputs": [
    {
     "name": "stdout",
     "output_type": "stream",
     "text": [
      "[LightGBM] [Info] Number of positive: 8801, number of negative: 1562995\n",
      "[LightGBM] [Info] Auto-choosing row-wise multi-threading, the overhead of testing was 0.133144 seconds.\n",
      "You can set `force_row_wise=true` to remove the overhead.\n",
      "And if memory is not enough, you can set `force_col_wise=true`.\n",
      "[LightGBM] [Info] Total Bins 6252\n",
      "[LightGBM] [Info] Number of data points in the train set: 1571796, number of used features: 44\n",
      "[LightGBM] [Info] [binary:BoostFromScore]: pavg=0.005599 -> initscore=-5.179494\n",
      "[LightGBM] [Info] Start training from score -5.179494\n",
      "Training until validation scores don't improve for 50 rounds\n",
      "Early stopping, best iteration is:\n",
      "[1]\tvalid_0's binary_logloss: 0.0117299\tvalid_0's weighted_cost: 863\n"
     ]
    }
   ],
   "source": [
    "params = {\n",
    "    'objective': 'binary',\n",
    "    'metric': 'binary_logloss',\n",
    "}\n",
    "\n",
    "weighted_model = lgb.train(\n",
    "    params,\n",
    "    train_set,\n",
    "    valid_sets=[test_set],\n",
    "    feval=weighted_cost_metric,\n",
    "    callbacks=[lgb.early_stopping(stopping_rounds=50)]\n",
    ")"
   ]
  },
  {
   "cell_type": "code",
   "execution_count": 74,
   "id": "6fe4e9bc",
   "metadata": {},
   "outputs": [
    {
     "name": "stdout",
     "output_type": "stream",
     "text": [
      "              precision    recall  f1-score   support\n",
      "\n",
      "           0       1.00      1.00      1.00    279748\n",
      "           1       0.83      0.70      0.76       850\n",
      "\n",
      "    accuracy                           1.00    280598\n",
      "   macro avg       0.91      0.85      0.88    280598\n",
      "weighted avg       1.00      1.00      1.00    280598\n",
      "\n",
      "[[279626    122]\n",
      " [   253    597]]\n",
      "AUC: 0.8947209126869644\n",
      "Ratio FP: 1.20\n"
     ]
    }
   ],
   "source": [
    "# Obtener resultados\n",
    "y_pred = weighted_model.predict(X_test)\n",
    "y_pred_binary = (y_pred > 0.5).astype(int)\n",
    "\n",
    "from sklearn.metrics import classification_report, confusion_matrix, roc_auc_score\n",
    "cr = classification_report(y_test, y_pred_binary, output_dict=True)\n",
    "print(classification_report(y_test, y_pred_binary))\n",
    "print(confusion_matrix(y_test, y_pred_binary))\n",
    "print(f\"AUC: {roc_auc_score(y_test, y_pred)}\")\n",
    "\n",
    "tn, fp, fn, tp = confusion_matrix(y_test, y_pred_binary).ravel()\n",
    "ratio_fp = (tp + fp) / tp if tp != 0 else float('inf')\n",
    "print(f\"Ratio FP: {ratio_fp:.2f}\")\n",
    "\n",
    "weighted_model_results = {\n",
    "    'model': 'weighted_model',\n",
    "    'precision': cr['1']['precision'],\n",
    "    'recall': cr['1']['recall'],\n",
    "    'f1-score': cr['1']['f1-score'],\n",
    "    'support': cr['1']['support'],\n",
    "    'auc': roc_auc_score(y_test, y_pred),\n",
    "    'ratio_fp': ratio_fp,\n",
    "}"
   ]
  },
  {
   "cell_type": "markdown",
   "id": "038dd270",
   "metadata": {},
   "source": [
    "### Resultados"
   ]
  },
  {
   "cell_type": "code",
   "execution_count": 77,
   "id": "0d636a4c",
   "metadata": {},
   "outputs": [
    {
     "data": {
      "text/html": [
       "<div>\n",
       "<style scoped>\n",
       "    .dataframe tbody tr th:only-of-type {\n",
       "        vertical-align: middle;\n",
       "    }\n",
       "\n",
       "    .dataframe tbody tr th {\n",
       "        vertical-align: top;\n",
       "    }\n",
       "\n",
       "    .dataframe thead th {\n",
       "        text-align: right;\n",
       "    }\n",
       "</style>\n",
       "<table border=\"1\" class=\"dataframe\">\n",
       "  <thead>\n",
       "    <tr style=\"text-align: right;\">\n",
       "      <th></th>\n",
       "      <th>model</th>\n",
       "      <th>precision</th>\n",
       "      <th>recall</th>\n",
       "      <th>f1-score</th>\n",
       "      <th>support</th>\n",
       "      <th>auc</th>\n",
       "      <th>ratio_fp</th>\n",
       "    </tr>\n",
       "  </thead>\n",
       "  <tbody>\n",
       "    <tr>\n",
       "      <th>0</th>\n",
       "      <td>base_model</td>\n",
       "      <td>0.129587</td>\n",
       "      <td>0.727059</td>\n",
       "      <td>0.219968</td>\n",
       "      <td>850.0</td>\n",
       "      <td>0.943535</td>\n",
       "      <td>7.716828</td>\n",
       "    </tr>\n",
       "    <tr>\n",
       "      <th>1</th>\n",
       "      <td>fp_ratio_model</td>\n",
       "      <td>0.830320</td>\n",
       "      <td>0.702353</td>\n",
       "      <td>0.760994</td>\n",
       "      <td>850.0</td>\n",
       "      <td>0.894721</td>\n",
       "      <td>1.204355</td>\n",
       "    </tr>\n",
       "    <tr>\n",
       "      <th>2</th>\n",
       "      <td>f1_model</td>\n",
       "      <td>0.830320</td>\n",
       "      <td>0.702353</td>\n",
       "      <td>0.760994</td>\n",
       "      <td>850.0</td>\n",
       "      <td>0.894721</td>\n",
       "      <td>1.204355</td>\n",
       "    </tr>\n",
       "    <tr>\n",
       "      <th>3</th>\n",
       "      <td>weighted_model</td>\n",
       "      <td>0.830320</td>\n",
       "      <td>0.702353</td>\n",
       "      <td>0.760994</td>\n",
       "      <td>850.0</td>\n",
       "      <td>0.894721</td>\n",
       "      <td>1.204355</td>\n",
       "    </tr>\n",
       "  </tbody>\n",
       "</table>\n",
       "</div>"
      ],
      "text/plain": [
       "            model  precision    recall  f1-score  support       auc  ratio_fp\n",
       "0      base_model   0.129587  0.727059  0.219968    850.0  0.943535  7.716828\n",
       "1  fp_ratio_model   0.830320  0.702353  0.760994    850.0  0.894721  1.204355\n",
       "2        f1_model   0.830320  0.702353  0.760994    850.0  0.894721  1.204355\n",
       "3  weighted_model   0.830320  0.702353  0.760994    850.0  0.894721  1.204355"
      ]
     },
     "execution_count": 77,
     "metadata": {},
     "output_type": "execute_result"
    }
   ],
   "source": [
    "import matplotlib.pyplot as plt\n",
    "\n",
    "models_results = [base_model_results, fp_ratio_model_results, f1_model_results, weighted_model_results]\n",
    "results_df = pd.DataFrame(models_results)\n",
    "results_df"
   ]
  },
  {
   "cell_type": "code",
   "execution_count": 81,
   "id": "c93d8275",
   "metadata": {},
   "outputs": [
    {
     "data": {
      "image/png": "[encoded data removed]",
      "text/plain": [
       "<Figure size 1800x600 with 3 Axes>"
      ]
     },
     "metadata": {},
     "output_type": "display_data"
    }
   ],
   "source": [
    "models = results_df['model'].tolist()\n",
    "x = np.arange(len(results_df))\n",
    "width = 0.35\n",
    "\n",
    "plt.figure(figsize=(18, 6))\n",
    "\n",
    "# Gráfico de Precision y Recall\n",
    "plt.subplot(1, 3, 1)\n",
    "plt.bar(x - width/2, results_df['precision'], width, label='Precision', color='skyblue')\n",
    "plt.bar(x + width/2, results_df['recall'], width, label='Recall', color='orange')\n",
    "plt.xticks(x, models, rotation=45, ha='right')\n",
    "plt.title(\"Precision y Recall por modelo\")\n",
    "plt.ylabel(\"Score\")\n",
    "plt.ylim(0, 1)\n",
    "plt.legend()\n",
    "\n",
    "# Gráfico de Ratio FP\n",
    "plt.subplot(1, 3, 2)\n",
    "plt.bar(models, results_df['ratio_fp'], color='red')\n",
    "plt.xticks(rotation=45, ha='right')\n",
    "plt.title(\"Ratio FP por modelo\")\n",
    "plt.ylabel(\"Ratio FP\")\n",
    "\n",
    "# Gráfico de AUC\n",
    "plt.subplot(1, 3, 3)\n",
    "plt.bar(models, results_df['auc'], color='green')\n",
    "plt.xticks(rotation=45, ha='right')\n",
    "plt.title(\"AUC por modelo\")\n",
    "plt.ylabel(\"AUC\")\n",
    "plt.ylim(0, 1)\n",
    "\n",
    "plt.tight_layout()\n",
    "plt.show()"
   ]
  }
 ],
 "metadata": {
  "kernelspec": {
   "display_name": "Python 3",
   "language": "python",
   "name": "python3"
  },
  "language_info": {
   "codemirror_mode": {
    "name": "ipython",
    "version": 3
   },
   "file_extension": ".py",
   "mimetype": "text/x-python",
   "name": "python",
   "nbconvert_exporter": "python",
   "pygments_lexer": "ipython3",
   "version": "3.11.7"
  }
 },
 "nbformat": 4,
 "nbformat_minor": 5
}
